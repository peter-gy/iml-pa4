{
 "cells": [
  {
   "cell_type": "markdown",
   "metadata": {},
   "source": [
    "---\n",
    "title: Programming Assignment 4\n",
    "author: Péter Ferenc Gyarmati (11913446)\n",
    "date: '2023.12.15'\n",
    "format:\n",
    "    html:\n",
    "        code-fold: true\n",
    "---"
   ]
  },
  {
   "cell_type": "markdown",
   "metadata": {},
   "source": [
    "# Task 1: Movie Recommendation\n",
    "\n",
    "In this task you will work with the “MovieLens 1M” data set [3], a benchmark dataset for building recommender systems. Your goal is to train a machine learning model for predicting how users would rate different movies based on user and movie features.\n",
    "\n",
    "## Subtask 1: Data Loading and Data Preparation\n",
    "\n",
    "Download the dataset from the link provided in the bibliography and unzip it. Read the included README file. Write functions to load and process the user information, the movie information and the ratings from `users.dat`, `movies.dat` and `ratings.dat`, respectively, and construct training data (feature vectors from user and movie data, as well as targets from the ratings) such that based on this data we can train a classifier to predict a user’s movie ratings. Consider the following points:\n",
    "\n",
    "- The ratings are given as 1-star to 5-star ratings. Consider those as classes 1,...,5.\n",
    "- When loading the data for processing, think ahead (read the description of all subtasks first) as you will need to construct feature vectors from the data which will then be processed by various machine learning models. In particular, the ratings correspond to labels we want to predict and the features you construct from the user and movie data should contain useful information for predicting that label.\n",
    "- Remove all users which have rated less than 100 movies.\n",
    "- Split the data into training and test data. Construct the test data from all the ratings of users with user ids 1,...,1000 (unless a user was removed). Use the remaining ratings to construct the training data.\n",
    "\n",
    "- [ ] In the report, describe the feature vectors you created. Explain how you represented features and why?\n",
    "- [ ] How many samples does your training and test data contain?\n",
    "\n",
    "*Hint 1: You can ignore the zip-code (in the user information) and the time stamp (in the ratings information) for simplicity.*\n",
    "\n",
    "*Hint 2: Store intermediate results, e.g., after loading the user file and bringing it into a suitable format, to minimize processing time.*\n",
    "\n",
    "*Remark: The specific way in which we are using the data here is not the most common one. Hence, when reading literature on recommender systems don't be confused.*"
   ]
  },
  {
   "cell_type": "markdown",
   "metadata": {},
   "source": [
    "### Loading the Data\n",
    "\n",
    "I got started by creating a function to load the data from the `.dat` files. It was an interesting, mild-migraine-invoking ~15 minutes to figure out why I kept getting an encoding mismatch error when calling `pd.read_csv`. After some trial and error, I found out that I must load the files using `ISO-8859-1` encoding. "
   ]
  },
  {
   "cell_type": "code",
   "execution_count": 45,
   "metadata": {},
   "outputs": [],
   "source": [
    "from pathlib import Path\n",
    "import pandas as pd\n",
    "\n",
    "raw_data_cache = {}\n",
    "\n",
    "\n",
    "def load_data(path: Path, columns: list[str]) -> pd.DataFrame:\n",
    "    df = pd.read_csv(\n",
    "        path,\n",
    "        sep=\"::\",\n",
    "        encoding=\"ISO-8859-1\",\n",
    "        header=None,\n",
    "        names=columns,\n",
    "        engine=\"python\",\n",
    "    )\n",
    "    data_name = path.stem\n",
    "    raw_data_cache[data_name] = df.copy()\n",
    "    return df"
   ]
  },
  {
   "cell_type": "markdown",
   "metadata": {},
   "source": [
    "#### Movies\n",
    "\n",
    "As per the `README`, we have the colums `[\"MovieID\", \"Title\", \"Genres\"]`. I noted that `Title` includes the year of release, but since it is coupled with the title string, in this form it is not very useful if we want to feed an ML model. The shape and form of `Genres` is also not very useful because in general we would need a numerical representation of categorical data so that we can come up with a meaningful model."
   ]
  },
  {
   "cell_type": "code",
   "execution_count": 46,
   "metadata": {},
   "outputs": [
    {
     "data": {
      "text/html": [
       "<div>\n",
       "<style scoped>\n",
       "    .dataframe tbody tr th:only-of-type {\n",
       "        vertical-align: middle;\n",
       "    }\n",
       "\n",
       "    .dataframe tbody tr th {\n",
       "        vertical-align: top;\n",
       "    }\n",
       "\n",
       "    .dataframe thead th {\n",
       "        text-align: right;\n",
       "    }\n",
       "</style>\n",
       "<table border=\"1\" class=\"dataframe\">\n",
       "  <thead>\n",
       "    <tr style=\"text-align: right;\">\n",
       "      <th></th>\n",
       "      <th>MovieID</th>\n",
       "      <th>Title</th>\n",
       "      <th>Genres</th>\n",
       "    </tr>\n",
       "  </thead>\n",
       "  <tbody>\n",
       "    <tr>\n",
       "      <th>0</th>\n",
       "      <td>1</td>\n",
       "      <td>Toy Story (1995)</td>\n",
       "      <td>Animation|Children's|Comedy</td>\n",
       "    </tr>\n",
       "    <tr>\n",
       "      <th>1</th>\n",
       "      <td>2</td>\n",
       "      <td>Jumanji (1995)</td>\n",
       "      <td>Adventure|Children's|Fantasy</td>\n",
       "    </tr>\n",
       "    <tr>\n",
       "      <th>2</th>\n",
       "      <td>3</td>\n",
       "      <td>Grumpier Old Men (1995)</td>\n",
       "      <td>Comedy|Romance</td>\n",
       "    </tr>\n",
       "    <tr>\n",
       "      <th>3</th>\n",
       "      <td>4</td>\n",
       "      <td>Waiting to Exhale (1995)</td>\n",
       "      <td>Comedy|Drama</td>\n",
       "    </tr>\n",
       "    <tr>\n",
       "      <th>4</th>\n",
       "      <td>5</td>\n",
       "      <td>Father of the Bride Part II (1995)</td>\n",
       "      <td>Comedy</td>\n",
       "    </tr>\n",
       "  </tbody>\n",
       "</table>\n",
       "</div>"
      ],
      "text/plain": [
       "   MovieID                               Title                        Genres\n",
       "0        1                    Toy Story (1995)   Animation|Children's|Comedy\n",
       "1        2                      Jumanji (1995)  Adventure|Children's|Fantasy\n",
       "2        3             Grumpier Old Men (1995)                Comedy|Romance\n",
       "3        4            Waiting to Exhale (1995)                  Comedy|Drama\n",
       "4        5  Father of the Bride Part II (1995)                        Comedy"
      ]
     },
     "execution_count": 46,
     "metadata": {},
     "output_type": "execute_result"
    }
   ],
   "source": [
    "assets_root = Path(\".\") / \"assets\"\n",
    "data_root = assets_root / \"ml-1m\"\n",
    "\n",
    "movies_df = load_data(\n",
    "    path=(data_root / \"movies.dat\"), columns=[\"MovieID\", \"Title\", \"Genres\"]\n",
    ")\n",
    "movies_df.head()"
   ]
  },
  {
   "cell_type": "markdown",
   "metadata": {},
   "source": [
    "Because of the reasons outlined above, I decided to:\n",
    "\n",
    "- introduce a new column `Decade` by extracting the year from the `Title` and mapping it to a decade like 1990, 2000, etc. This way, we might be able to better relate the movies to each other based on the decade they were released in, as an exact year would be too fine-grained.\n",
    "- Transform the `Genres` column to a list of genres, so that we can use it easier later"
   ]
  },
  {
   "cell_type": "code",
   "execution_count": 47,
   "metadata": {},
   "outputs": [],
   "source": [
    "def year_from_title(title: str) -> int:\n",
    "    \"\"\"'{title} ({year})' -> year\"\"\"\n",
    "    # We use the fact that the year is always 4 digits long\n",
    "    # and is enclosed in parentheses\n",
    "    trimmed_title = title.strip()\n",
    "    return int(trimmed_title[-5:-1])\n",
    "\n",
    "\n",
    "def year_to_decade(year: int) -> int:\n",
    "    return year - year % 10\n",
    "\n",
    "\n",
    "def genres_from_string(genres: str) -> set[str]:\n",
    "    return sorted(set(genres.strip().split(\"|\")))\n",
    "\n",
    "\n",
    "def process_movies_df(df: pd.DataFrame) -> pd.DataFrame:\n",
    "    processed_df = df.copy()\n",
    "    processed_df[\"Decade\"] = (\n",
    "        processed_df[\"Title\"].apply(year_from_title).apply(year_to_decade)\n",
    "    )\n",
    "    processed_df[\"Genres\"] = processed_df[\"Genres\"].apply(genres_from_string)\n",
    "    processed_df = processed_df.drop(columns=[\"Title\"])\n",
    "    return processed_df"
   ]
  },
  {
   "cell_type": "markdown",
   "metadata": {},
   "source": [
    "The processed movies dataset now has the new, transformed columns."
   ]
  },
  {
   "cell_type": "code",
   "execution_count": 48,
   "metadata": {},
   "outputs": [
    {
     "data": {
      "text/html": [
       "<div>\n",
       "<style scoped>\n",
       "    .dataframe tbody tr th:only-of-type {\n",
       "        vertical-align: middle;\n",
       "    }\n",
       "\n",
       "    .dataframe tbody tr th {\n",
       "        vertical-align: top;\n",
       "    }\n",
       "\n",
       "    .dataframe thead th {\n",
       "        text-align: right;\n",
       "    }\n",
       "</style>\n",
       "<table border=\"1\" class=\"dataframe\">\n",
       "  <thead>\n",
       "    <tr style=\"text-align: right;\">\n",
       "      <th></th>\n",
       "      <th>MovieID</th>\n",
       "      <th>Genres</th>\n",
       "      <th>Decade</th>\n",
       "    </tr>\n",
       "  </thead>\n",
       "  <tbody>\n",
       "    <tr>\n",
       "      <th>0</th>\n",
       "      <td>1</td>\n",
       "      <td>[Animation, Children's, Comedy]</td>\n",
       "      <td>1990</td>\n",
       "    </tr>\n",
       "    <tr>\n",
       "      <th>1</th>\n",
       "      <td>2</td>\n",
       "      <td>[Adventure, Children's, Fantasy]</td>\n",
       "      <td>1990</td>\n",
       "    </tr>\n",
       "    <tr>\n",
       "      <th>2</th>\n",
       "      <td>3</td>\n",
       "      <td>[Comedy, Romance]</td>\n",
       "      <td>1990</td>\n",
       "    </tr>\n",
       "    <tr>\n",
       "      <th>3</th>\n",
       "      <td>4</td>\n",
       "      <td>[Comedy, Drama]</td>\n",
       "      <td>1990</td>\n",
       "    </tr>\n",
       "    <tr>\n",
       "      <th>4</th>\n",
       "      <td>5</td>\n",
       "      <td>[Comedy]</td>\n",
       "      <td>1990</td>\n",
       "    </tr>\n",
       "  </tbody>\n",
       "</table>\n",
       "</div>"
      ],
      "text/plain": [
       "   MovieID                            Genres  Decade\n",
       "0        1   [Animation, Children's, Comedy]    1990\n",
       "1        2  [Adventure, Children's, Fantasy]    1990\n",
       "2        3                 [Comedy, Romance]    1990\n",
       "3        4                   [Comedy, Drama]    1990\n",
       "4        5                          [Comedy]    1990"
      ]
     },
     "execution_count": 48,
     "metadata": {},
     "output_type": "execute_result"
    }
   ],
   "source": [
    "movies_df = process_movies_df(movies_df)\n",
    "movies_df.head()"
   ]
  },
  {
   "cell_type": "markdown",
   "metadata": {},
   "source": [
    "### Users\n",
    "\n",
    "All columns are numerical except `Gender`, so we can go ahead and convert it to a binary value."
   ]
  },
  {
   "cell_type": "code",
   "execution_count": 49,
   "metadata": {},
   "outputs": [
    {
     "data": {
      "text/html": [
       "<div>\n",
       "<style scoped>\n",
       "    .dataframe tbody tr th:only-of-type {\n",
       "        vertical-align: middle;\n",
       "    }\n",
       "\n",
       "    .dataframe tbody tr th {\n",
       "        vertical-align: top;\n",
       "    }\n",
       "\n",
       "    .dataframe thead th {\n",
       "        text-align: right;\n",
       "    }\n",
       "</style>\n",
       "<table border=\"1\" class=\"dataframe\">\n",
       "  <thead>\n",
       "    <tr style=\"text-align: right;\">\n",
       "      <th></th>\n",
       "      <th>UserID</th>\n",
       "      <th>Gender</th>\n",
       "      <th>Age</th>\n",
       "      <th>Occupation</th>\n",
       "    </tr>\n",
       "  </thead>\n",
       "  <tbody>\n",
       "    <tr>\n",
       "      <th>0</th>\n",
       "      <td>1</td>\n",
       "      <td>F</td>\n",
       "      <td>1</td>\n",
       "      <td>10</td>\n",
       "    </tr>\n",
       "    <tr>\n",
       "      <th>1</th>\n",
       "      <td>2</td>\n",
       "      <td>M</td>\n",
       "      <td>56</td>\n",
       "      <td>16</td>\n",
       "    </tr>\n",
       "    <tr>\n",
       "      <th>2</th>\n",
       "      <td>3</td>\n",
       "      <td>M</td>\n",
       "      <td>25</td>\n",
       "      <td>15</td>\n",
       "    </tr>\n",
       "    <tr>\n",
       "      <th>3</th>\n",
       "      <td>4</td>\n",
       "      <td>M</td>\n",
       "      <td>45</td>\n",
       "      <td>7</td>\n",
       "    </tr>\n",
       "    <tr>\n",
       "      <th>4</th>\n",
       "      <td>5</td>\n",
       "      <td>M</td>\n",
       "      <td>25</td>\n",
       "      <td>20</td>\n",
       "    </tr>\n",
       "  </tbody>\n",
       "</table>\n",
       "</div>"
      ],
      "text/plain": [
       "   UserID Gender  Age  Occupation\n",
       "0       1      F    1          10\n",
       "1       2      M   56          16\n",
       "2       3      M   25          15\n",
       "3       4      M   45           7\n",
       "4       5      M   25          20"
      ]
     },
     "execution_count": 49,
     "metadata": {},
     "output_type": "execute_result"
    }
   ],
   "source": [
    "users_df = load_data(\n",
    "    path=(data_root / \"users.dat\"),\n",
    "    columns=[\"UserID\", \"Gender\", \"Age\", \"Occupation\", \"Zip-code\"],\n",
    ")\n",
    "users_df = users_df.drop(columns=[\"Zip-code\"])\n",
    "users_df.head()"
   ]
  },
  {
   "cell_type": "code",
   "execution_count": 50,
   "metadata": {},
   "outputs": [],
   "source": [
    "def process_users_df(df: pd.DataFrame) -> pd.DataFrame:\n",
    "    processed_df = df.copy()\n",
    "    gender_map = {\n",
    "        \"F\": 0,\n",
    "        \"M\": 1,\n",
    "    }\n",
    "    processed_df[\"Gender\"] = processed_df[\"Gender\"].apply(lambda g: gender_map[g])\n",
    "    return processed_df"
   ]
  },
  {
   "cell_type": "markdown",
   "metadata": {},
   "source": [
    "The processed users dataset now has the Gender column encoded as a single binary column, where `0` represents females and `1` represents males."
   ]
  },
  {
   "cell_type": "code",
   "execution_count": 51,
   "metadata": {},
   "outputs": [
    {
     "data": {
      "text/html": [
       "<div>\n",
       "<style scoped>\n",
       "    .dataframe tbody tr th:only-of-type {\n",
       "        vertical-align: middle;\n",
       "    }\n",
       "\n",
       "    .dataframe tbody tr th {\n",
       "        vertical-align: top;\n",
       "    }\n",
       "\n",
       "    .dataframe thead th {\n",
       "        text-align: right;\n",
       "    }\n",
       "</style>\n",
       "<table border=\"1\" class=\"dataframe\">\n",
       "  <thead>\n",
       "    <tr style=\"text-align: right;\">\n",
       "      <th></th>\n",
       "      <th>UserID</th>\n",
       "      <th>Gender</th>\n",
       "      <th>Age</th>\n",
       "      <th>Occupation</th>\n",
       "    </tr>\n",
       "  </thead>\n",
       "  <tbody>\n",
       "    <tr>\n",
       "      <th>0</th>\n",
       "      <td>1</td>\n",
       "      <td>0</td>\n",
       "      <td>1</td>\n",
       "      <td>10</td>\n",
       "    </tr>\n",
       "    <tr>\n",
       "      <th>1</th>\n",
       "      <td>2</td>\n",
       "      <td>1</td>\n",
       "      <td>56</td>\n",
       "      <td>16</td>\n",
       "    </tr>\n",
       "    <tr>\n",
       "      <th>2</th>\n",
       "      <td>3</td>\n",
       "      <td>1</td>\n",
       "      <td>25</td>\n",
       "      <td>15</td>\n",
       "    </tr>\n",
       "    <tr>\n",
       "      <th>3</th>\n",
       "      <td>4</td>\n",
       "      <td>1</td>\n",
       "      <td>45</td>\n",
       "      <td>7</td>\n",
       "    </tr>\n",
       "    <tr>\n",
       "      <th>4</th>\n",
       "      <td>5</td>\n",
       "      <td>1</td>\n",
       "      <td>25</td>\n",
       "      <td>20</td>\n",
       "    </tr>\n",
       "  </tbody>\n",
       "</table>\n",
       "</div>"
      ],
      "text/plain": [
       "   UserID  Gender  Age  Occupation\n",
       "0       1       0    1          10\n",
       "1       2       1   56          16\n",
       "2       3       1   25          15\n",
       "3       4       1   45           7\n",
       "4       5       1   25          20"
      ]
     },
     "execution_count": 51,
     "metadata": {},
     "output_type": "execute_result"
    }
   ],
   "source": [
    "users_df = process_users_df(users_df)\n",
    "users_df.head()"
   ]
  },
  {
   "cell_type": "markdown",
   "metadata": {},
   "source": [
    "### Ratings\n",
    "\n",
    "The `Ratings` dataset is the most straightforward one, it gives us the foreign keys and the ratings (a.k.a. labels) for each user-movie pair. We can use this dataset as-is."
   ]
  },
  {
   "cell_type": "code",
   "execution_count": 52,
   "metadata": {},
   "outputs": [
    {
     "data": {
      "text/html": [
       "<div>\n",
       "<style scoped>\n",
       "    .dataframe tbody tr th:only-of-type {\n",
       "        vertical-align: middle;\n",
       "    }\n",
       "\n",
       "    .dataframe tbody tr th {\n",
       "        vertical-align: top;\n",
       "    }\n",
       "\n",
       "    .dataframe thead th {\n",
       "        text-align: right;\n",
       "    }\n",
       "</style>\n",
       "<table border=\"1\" class=\"dataframe\">\n",
       "  <thead>\n",
       "    <tr style=\"text-align: right;\">\n",
       "      <th></th>\n",
       "      <th>UserID</th>\n",
       "      <th>MovieID</th>\n",
       "      <th>Rating</th>\n",
       "    </tr>\n",
       "  </thead>\n",
       "  <tbody>\n",
       "    <tr>\n",
       "      <th>0</th>\n",
       "      <td>1</td>\n",
       "      <td>1193</td>\n",
       "      <td>5</td>\n",
       "    </tr>\n",
       "    <tr>\n",
       "      <th>1</th>\n",
       "      <td>1</td>\n",
       "      <td>661</td>\n",
       "      <td>3</td>\n",
       "    </tr>\n",
       "    <tr>\n",
       "      <th>2</th>\n",
       "      <td>1</td>\n",
       "      <td>914</td>\n",
       "      <td>3</td>\n",
       "    </tr>\n",
       "    <tr>\n",
       "      <th>3</th>\n",
       "      <td>1</td>\n",
       "      <td>3408</td>\n",
       "      <td>4</td>\n",
       "    </tr>\n",
       "    <tr>\n",
       "      <th>4</th>\n",
       "      <td>1</td>\n",
       "      <td>2355</td>\n",
       "      <td>5</td>\n",
       "    </tr>\n",
       "  </tbody>\n",
       "</table>\n",
       "</div>"
      ],
      "text/plain": [
       "   UserID  MovieID  Rating\n",
       "0       1     1193       5\n",
       "1       1      661       3\n",
       "2       1      914       3\n",
       "3       1     3408       4\n",
       "4       1     2355       5"
      ]
     },
     "execution_count": 52,
     "metadata": {},
     "output_type": "execute_result"
    }
   ],
   "source": [
    "ratings_df = load_data(\n",
    "    path=(data_root / \"ratings.dat\"),\n",
    "    columns=[\"UserID\", \"MovieID\", \"Rating\", \"Timestamp\"],\n",
    ")\n",
    "ratings_df = ratings_df.drop(columns=[\"Timestamp\"])\n",
    "ratings_df.head()"
   ]
  },
  {
   "cell_type": "markdown",
   "metadata": {},
   "source": [
    "### Filtering & Merging the Datasets\n",
    "\n",
    "We start by keeping only those users and their ratings who have rated at least 100 movies."
   ]
  },
  {
   "cell_type": "code",
   "execution_count": 53,
   "metadata": {},
   "outputs": [],
   "source": [
    "ratings_count = ratings_df.groupby(\"UserID\").size()\n",
    "users_with_at_least_100_ratings = ratings_count[ratings_count >= 100].index"
   ]
  },
  {
   "cell_type": "code",
   "execution_count": 54,
   "metadata": {},
   "outputs": [
    {
     "data": {
      "text/html": [
       "<div>\n",
       "<style scoped>\n",
       "    .dataframe tbody tr th:only-of-type {\n",
       "        vertical-align: middle;\n",
       "    }\n",
       "\n",
       "    .dataframe tbody tr th {\n",
       "        vertical-align: top;\n",
       "    }\n",
       "\n",
       "    .dataframe thead th {\n",
       "        text-align: right;\n",
       "    }\n",
       "</style>\n",
       "<table border=\"1\" class=\"dataframe\">\n",
       "  <thead>\n",
       "    <tr style=\"text-align: right;\">\n",
       "      <th></th>\n",
       "      <th>UserID</th>\n",
       "      <th>Gender</th>\n",
       "      <th>Age</th>\n",
       "      <th>Occupation</th>\n",
       "    </tr>\n",
       "  </thead>\n",
       "  <tbody>\n",
       "    <tr>\n",
       "      <th>1</th>\n",
       "      <td>2</td>\n",
       "      <td>1</td>\n",
       "      <td>56</td>\n",
       "      <td>16</td>\n",
       "    </tr>\n",
       "    <tr>\n",
       "      <th>4</th>\n",
       "      <td>5</td>\n",
       "      <td>1</td>\n",
       "      <td>25</td>\n",
       "      <td>20</td>\n",
       "    </tr>\n",
       "    <tr>\n",
       "      <th>7</th>\n",
       "      <td>8</td>\n",
       "      <td>1</td>\n",
       "      <td>25</td>\n",
       "      <td>12</td>\n",
       "    </tr>\n",
       "    <tr>\n",
       "      <th>8</th>\n",
       "      <td>9</td>\n",
       "      <td>1</td>\n",
       "      <td>25</td>\n",
       "      <td>17</td>\n",
       "    </tr>\n",
       "    <tr>\n",
       "      <th>9</th>\n",
       "      <td>10</td>\n",
       "      <td>0</td>\n",
       "      <td>35</td>\n",
       "      <td>1</td>\n",
       "    </tr>\n",
       "  </tbody>\n",
       "</table>\n",
       "</div>"
      ],
      "text/plain": [
       "   UserID  Gender  Age  Occupation\n",
       "1       2       1   56          16\n",
       "4       5       1   25          20\n",
       "7       8       1   25          12\n",
       "8       9       1   25          17\n",
       "9      10       0   35           1"
      ]
     },
     "execution_count": 54,
     "metadata": {},
     "output_type": "execute_result"
    }
   ],
   "source": [
    "users_df = users_df[users_df[\"UserID\"].isin(users_with_at_least_100_ratings)]\n",
    "users_df.head()"
   ]
  },
  {
   "cell_type": "code",
   "execution_count": 55,
   "metadata": {},
   "outputs": [
    {
     "data": {
      "text/html": [
       "<div>\n",
       "<style scoped>\n",
       "    .dataframe tbody tr th:only-of-type {\n",
       "        vertical-align: middle;\n",
       "    }\n",
       "\n",
       "    .dataframe tbody tr th {\n",
       "        vertical-align: top;\n",
       "    }\n",
       "\n",
       "    .dataframe thead th {\n",
       "        text-align: right;\n",
       "    }\n",
       "</style>\n",
       "<table border=\"1\" class=\"dataframe\">\n",
       "  <thead>\n",
       "    <tr style=\"text-align: right;\">\n",
       "      <th></th>\n",
       "      <th>UserID</th>\n",
       "      <th>MovieID</th>\n",
       "      <th>Rating</th>\n",
       "    </tr>\n",
       "  </thead>\n",
       "  <tbody>\n",
       "    <tr>\n",
       "      <th>53</th>\n",
       "      <td>2</td>\n",
       "      <td>1357</td>\n",
       "      <td>5</td>\n",
       "    </tr>\n",
       "    <tr>\n",
       "      <th>54</th>\n",
       "      <td>2</td>\n",
       "      <td>3068</td>\n",
       "      <td>4</td>\n",
       "    </tr>\n",
       "    <tr>\n",
       "      <th>55</th>\n",
       "      <td>2</td>\n",
       "      <td>1537</td>\n",
       "      <td>4</td>\n",
       "    </tr>\n",
       "    <tr>\n",
       "      <th>56</th>\n",
       "      <td>2</td>\n",
       "      <td>647</td>\n",
       "      <td>3</td>\n",
       "    </tr>\n",
       "    <tr>\n",
       "      <th>57</th>\n",
       "      <td>2</td>\n",
       "      <td>2194</td>\n",
       "      <td>4</td>\n",
       "    </tr>\n",
       "  </tbody>\n",
       "</table>\n",
       "</div>"
      ],
      "text/plain": [
       "    UserID  MovieID  Rating\n",
       "53       2     1357       5\n",
       "54       2     3068       4\n",
       "55       2     1537       4\n",
       "56       2      647       3\n",
       "57       2     2194       4"
      ]
     },
     "execution_count": 55,
     "metadata": {},
     "output_type": "execute_result"
    }
   ],
   "source": [
    "ratings_df = ratings_df[ratings_df[\"UserID\"].isin(users_with_at_least_100_ratings)]\n",
    "ratings_df.head()"
   ]
  },
  {
   "cell_type": "markdown",
   "metadata": {},
   "source": [
    "Having all three datasets filtered and prepared, we can merge them into a single master `DataFrame` with all the features.\n",
    "\n",
    "⚠️ **Note**: I had to limit the size of the data to $5000$ samples to finish the computations in a reasonable amount of time. I started to work on this assignment late. Late as in *very late*, a few hours before the deadline. As the computations on the full dataset never wanted to finish on my machine, I decided to do the evaluation on a random subset of the data. I am taking a random sample from the dataset, so the whole dataset should be reflected to some extent in the sample."
   ]
  },
  {
   "cell_type": "code",
   "execution_count": 56,
   "metadata": {},
   "outputs": [
    {
     "data": {
      "text/html": [
       "<div>\n",
       "<style scoped>\n",
       "    .dataframe tbody tr th:only-of-type {\n",
       "        vertical-align: middle;\n",
       "    }\n",
       "\n",
       "    .dataframe tbody tr th {\n",
       "        vertical-align: top;\n",
       "    }\n",
       "\n",
       "    .dataframe thead th {\n",
       "        text-align: right;\n",
       "    }\n",
       "</style>\n",
       "<table border=\"1\" class=\"dataframe\">\n",
       "  <thead>\n",
       "    <tr style=\"text-align: right;\">\n",
       "      <th></th>\n",
       "      <th>UserID</th>\n",
       "      <th>MovieID</th>\n",
       "      <th>Rating</th>\n",
       "      <th>Gender</th>\n",
       "      <th>Age</th>\n",
       "      <th>Occupation</th>\n",
       "      <th>Genres</th>\n",
       "      <th>Decade</th>\n",
       "    </tr>\n",
       "  </thead>\n",
       "  <tbody>\n",
       "    <tr>\n",
       "      <th>749517</th>\n",
       "      <td>5597</td>\n",
       "      <td>448</td>\n",
       "      <td>1</td>\n",
       "      <td>0</td>\n",
       "      <td>18</td>\n",
       "      <td>4</td>\n",
       "      <td>[Drama]</td>\n",
       "      <td>1990</td>\n",
       "    </tr>\n",
       "    <tr>\n",
       "      <th>249893</th>\n",
       "      <td>2167</td>\n",
       "      <td>1356</td>\n",
       "      <td>2</td>\n",
       "      <td>0</td>\n",
       "      <td>25</td>\n",
       "      <td>6</td>\n",
       "      <td>[Action, Adventure, Sci-Fi]</td>\n",
       "      <td>1990</td>\n",
       "    </tr>\n",
       "    <tr>\n",
       "      <th>797112</th>\n",
       "      <td>3618</td>\n",
       "      <td>384</td>\n",
       "      <td>3</td>\n",
       "      <td>1</td>\n",
       "      <td>56</td>\n",
       "      <td>17</td>\n",
       "      <td>[Action]</td>\n",
       "      <td>1990</td>\n",
       "    </tr>\n",
       "    <tr>\n",
       "      <th>308330</th>\n",
       "      <td>2941</td>\n",
       "      <td>2087</td>\n",
       "      <td>4</td>\n",
       "      <td>1</td>\n",
       "      <td>35</td>\n",
       "      <td>12</td>\n",
       "      <td>[Animation, Children's, Fantasy, Musical]</td>\n",
       "      <td>1950</td>\n",
       "    </tr>\n",
       "    <tr>\n",
       "      <th>703970</th>\n",
       "      <td>4566</td>\n",
       "      <td>1395</td>\n",
       "      <td>4</td>\n",
       "      <td>1</td>\n",
       "      <td>35</td>\n",
       "      <td>17</td>\n",
       "      <td>[Comedy, Drama]</td>\n",
       "      <td>1980</td>\n",
       "    </tr>\n",
       "  </tbody>\n",
       "</table>\n",
       "</div>"
      ],
      "text/plain": [
       "        UserID  MovieID  Rating  Gender  Age  Occupation  \\\n",
       "749517    5597      448       1       0   18           4   \n",
       "249893    2167     1356       2       0   25           6   \n",
       "797112    3618      384       3       1   56          17   \n",
       "308330    2941     2087       4       1   35          12   \n",
       "703970    4566     1395       4       1   35          17   \n",
       "\n",
       "                                           Genres  Decade  \n",
       "749517                                    [Drama]    1990  \n",
       "249893                [Action, Adventure, Sci-Fi]    1990  \n",
       "797112                                   [Action]    1990  \n",
       "308330  [Animation, Children's, Fantasy, Musical]    1950  \n",
       "703970                            [Comedy, Drama]    1980  "
      ]
     },
     "execution_count": 56,
     "metadata": {},
     "output_type": "execute_result"
    }
   ],
   "source": [
    "features_df = (\n",
    "    ratings_df.merge(users_df, on=\"UserID\")\n",
    "    .merge(movies_df, on=\"MovieID\")\n",
    "    .sample(5_000, random_state=42)\n",
    ")\n",
    "features_df.head()"
   ]
  },
  {
   "cell_type": "markdown",
   "metadata": {},
   "source": [
    "### Computing Complex Features\n",
    "\n",
    "Now, having a reduced number of rows, we can compute some interaction features between the users and the movies so that we can capture information that is not available in the dataset on the row-level, only on the dataset-level. For that, I am creating some utility functions to compute interesting aggregate statistics which will hopefully help us make more accurate rating predictions. "
   ]
  },
  {
   "cell_type": "markdown",
   "metadata": {},
   "source": [
    "#### Movie Statistics\n",
    "\n",
    "- `avg_rating_overall`: The average rating of the movie across all users\n",
    "- `avg_rating_per_gender`: The average rating of the move across genders\n",
    "- `avg_rating_per_age`: The average rating of the move across age groups\n",
    "- `avg_rating_per_occupation`: The average rating of the move across occupations"
   ]
  },
  {
   "cell_type": "code",
   "execution_count": 57,
   "metadata": {},
   "outputs": [],
   "source": [
    "from typing import TypedDict\n",
    "\n",
    "\n",
    "class MovieStats(TypedDict):\n",
    "    avg_rating_overall: float\n",
    "    avg_rating_per_gender: pd.Series\n",
    "    avg_rating_per_age: pd.Series\n",
    "    avg_rating_per_occupation: pd.Series\n",
    "\n",
    "\n",
    "def computes_movie_stats(features_for_movie: pd.DataFrame) -> MovieStats:\n",
    "    return {\n",
    "        \"avg_rating_overall\": features_for_movie[\"Rating\"].mean(),\n",
    "        \"avg_rating_per_gender\": features_for_movie.groupby(\"Gender\")[\"Rating\"].mean(),\n",
    "        \"avg_rating_per_age\": features_for_movie.groupby(\"Age\")[\"Rating\"].mean(),\n",
    "        \"avg_rating_per_occupation\": features_for_movie.groupby(\"Occupation\")[\n",
    "            \"Rating\"\n",
    "        ].mean(),\n",
    "    }\n",
    "\n",
    "\n",
    "def compute_all_movie_stats(features_df: pd.DataFrame) -> dict[int, MovieStats]:\n",
    "    return {\n",
    "        movie_id: computes_movie_stats(features_for_movie)\n",
    "        for movie_id, features_for_movie in features_df.groupby(\"MovieID\")\n",
    "    }"
   ]
  },
  {
   "cell_type": "markdown",
   "metadata": {},
   "source": [
    "#### User Statistics\n",
    "\n",
    "- `avg_rating_overall`: The average rating given by the user overall\n",
    "- `avg_rating_per_genre`: The average rating given by the user per genre\n",
    "- `avg_rating_per_decade`: The average rating given by the user per decade"
   ]
  },
  {
   "cell_type": "code",
   "execution_count": 58,
   "metadata": {},
   "outputs": [],
   "source": [
    "class UserStats(TypedDict):\n",
    "    avg_rating_overall: float\n",
    "    avg_rating_per_genre: pd.Series\n",
    "    avg_rating_per_decade: pd.Series\n",
    "\n",
    "\n",
    "def compute_user_stats(features_for_user: pd.DataFrame) -> UserStats:\n",
    "    features_by_genre = features_for_user.explode(\"Genres\").groupby(\"Genres\")\n",
    "    features_by_decade = features_for_user.groupby(\"Decade\")\n",
    "    return {\n",
    "        \"avg_rating_overall\": features_for_user[\"Rating\"].mean(),\n",
    "        \"avg_rating_per_genre\": features_by_genre[\"Rating\"].mean(),\n",
    "        \"avg_rating_per_decade\": features_by_decade[\"Rating\"].mean(),\n",
    "    }\n",
    "\n",
    "\n",
    "def compute_all_user_stats(features_df: pd.DataFrame) -> dict[int, UserStats]:\n",
    "    return {\n",
    "        user_id: compute_user_stats(features_for_user)\n",
    "        for user_id, features_for_user in features_df.groupby(\"UserID\")\n",
    "    }"
   ]
  },
  {
   "cell_type": "markdown",
   "metadata": {},
   "source": [
    "#### Interaction Features\n",
    "\n",
    "We can also compute interaction features to better capture the relationship between users and their movie preferences to enhance the quality of our predictions."
   ]
  },
  {
   "cell_type": "code",
   "execution_count": 59,
   "metadata": {},
   "outputs": [],
   "source": [
    "from typing import TypedDict\n",
    "import pandas as pd\n",
    "from tqdm import tqdm\n",
    "\n",
    "\n",
    "class InteractionFeatures(TypedDict):\n",
    "    movie_avg_overall: float\n",
    "    gender_preference_strength: float\n",
    "    age_group_preference_strength: float\n",
    "    occupation_relevance_strength: float\n",
    "    genre_preference_strength: float\n",
    "    decade_preference_strength: float\n",
    "\n",
    "\n",
    "def compute_interaction_features_for_row(\n",
    "    movie_stats: MovieStats, user_stats: UserStats, row: pd.Series\n",
    ") -> InteractionFeatures:\n",
    "    movie_avg_overall = movie_stats[\"avg_rating_overall\"]\n",
    "\n",
    "    # Determine the user's gender preference strength for this movie's rating\n",
    "    expected_rating_given_gender = movie_stats[\"avg_rating_per_gender\"][row[\"Gender\"]]\n",
    "    gender_preference_strength = expected_rating_given_gender\n",
    "\n",
    "    # Determine the user's age group preference strength for this movie's rating\n",
    "    expected_rating_given_age = movie_stats[\"avg_rating_per_age\"][row[\"Age\"]]\n",
    "    age_group_preference_strength = expected_rating_given_age\n",
    "\n",
    "    # Determine the user's occupation relevance strength for this movie's rating\n",
    "    expected_rating_given_occupation = movie_stats[\"avg_rating_per_occupation\"][\n",
    "        row[\"Occupation\"]\n",
    "    ]\n",
    "    occupation_relevance_strength = expected_rating_given_occupation\n",
    "\n",
    "    # Determine the user's genre preference strength for this movie's rating\n",
    "    # We'll assume that 'Genres' in the row is a list of genres for the movie\n",
    "    expected_rating_given_genres = user_stats[\"avg_rating_per_genre\"][\n",
    "        row[\"Genres\"]\n",
    "    ].mean()\n",
    "    genre_preference_strength = expected_rating_given_genres\n",
    "\n",
    "    # Determine the user's decade preference strength for this movie's rating\n",
    "    expected_rating_given_decade = user_stats[\"avg_rating_per_decade\"][row[\"Decade\"]]\n",
    "    decade_preference_strength = movie_avg_overall - expected_rating_given_decade\n",
    "\n",
    "    return {\n",
    "        \"movie_avg_overall\": movie_avg_overall,\n",
    "        \"gender_preference_strength\": gender_preference_strength,\n",
    "        \"age_group_preference_strength\": age_group_preference_strength,\n",
    "        \"occupation_relevance_strength\": occupation_relevance_strength,\n",
    "        \"genre_preference_strength\": genre_preference_strength,\n",
    "        \"decade_preference_strength\": decade_preference_strength,\n",
    "    }\n",
    "\n",
    "\n",
    "def snake_case_to_pascal_case(snake_case: str) -> str:\n",
    "    return \"\".join(word.capitalize() for word in snake_case.split(\"_\"))\n",
    "\n",
    "\n",
    "def compute_interaction_features(\n",
    "    movie_stats: dict[int, MovieStats],\n",
    "    user_stats: dict[int, UserStats],\n",
    "    features_df: pd.DataFrame,\n",
    ") -> pd.DataFrame:\n",
    "    df = features_df.copy()\n",
    "    for idx, row in tqdm(\n",
    "        df.iterrows(), total=len(df), desc=\"Computing interaction features\"\n",
    "    ):\n",
    "        features = compute_interaction_features_for_row(\n",
    "            movie_stats[row[\"MovieID\"]], user_stats[row[\"UserID\"]], row\n",
    "        )\n",
    "        for feature_name, feature_value in features.items():\n",
    "            df.loc[idx, snake_case_to_pascal_case(feature_name)] = feature_value\n",
    "\n",
    "    return df"
   ]
  },
  {
   "cell_type": "code",
   "execution_count": 60,
   "metadata": {},
   "outputs": [],
   "source": [
    "movies_stats = compute_all_movie_stats(features_df)\n",
    "users_stats = compute_all_user_stats(features_df)"
   ]
  },
  {
   "cell_type": "code",
   "execution_count": 61,
   "metadata": {},
   "outputs": [
    {
     "name": "stderr",
     "output_type": "stream",
     "text": [
      "Computing interaction features: 100%|███████████████████████████████████████████████████████████████████████████| 5000/5000 [00:01<00:00, 2934.49it/s]\n"
     ]
    },
    {
     "data": {
      "text/html": [
       "<div>\n",
       "<style scoped>\n",
       "    .dataframe tbody tr th:only-of-type {\n",
       "        vertical-align: middle;\n",
       "    }\n",
       "\n",
       "    .dataframe tbody tr th {\n",
       "        vertical-align: top;\n",
       "    }\n",
       "\n",
       "    .dataframe thead th {\n",
       "        text-align: right;\n",
       "    }\n",
       "</style>\n",
       "<table border=\"1\" class=\"dataframe\">\n",
       "  <thead>\n",
       "    <tr style=\"text-align: right;\">\n",
       "      <th></th>\n",
       "      <th>UserID</th>\n",
       "      <th>MovieID</th>\n",
       "      <th>Rating</th>\n",
       "      <th>Gender</th>\n",
       "      <th>Age</th>\n",
       "      <th>Occupation</th>\n",
       "      <th>Genres</th>\n",
       "      <th>Decade</th>\n",
       "      <th>MovieAvgOverall</th>\n",
       "      <th>GenderPreferenceStrength</th>\n",
       "      <th>AgeGroupPreferenceStrength</th>\n",
       "      <th>OccupationRelevanceStrength</th>\n",
       "      <th>GenrePreferenceStrength</th>\n",
       "      <th>DecadePreferenceStrength</th>\n",
       "    </tr>\n",
       "  </thead>\n",
       "  <tbody>\n",
       "    <tr>\n",
       "      <th>749517</th>\n",
       "      <td>5597</td>\n",
       "      <td>448</td>\n",
       "      <td>1</td>\n",
       "      <td>0</td>\n",
       "      <td>18</td>\n",
       "      <td>4</td>\n",
       "      <td>[Drama]</td>\n",
       "      <td>1990</td>\n",
       "      <td>1.000000</td>\n",
       "      <td>1.000000</td>\n",
       "      <td>1.000000</td>\n",
       "      <td>1.0</td>\n",
       "      <td>1.000000</td>\n",
       "      <td>0.000000</td>\n",
       "    </tr>\n",
       "    <tr>\n",
       "      <th>249893</th>\n",
       "      <td>2167</td>\n",
       "      <td>1356</td>\n",
       "      <td>2</td>\n",
       "      <td>0</td>\n",
       "      <td>25</td>\n",
       "      <td>6</td>\n",
       "      <td>[Action, Adventure, Sci-Fi]</td>\n",
       "      <td>1990</td>\n",
       "      <td>3.700000</td>\n",
       "      <td>2.000000</td>\n",
       "      <td>3.600000</td>\n",
       "      <td>2.0</td>\n",
       "      <td>2.333333</td>\n",
       "      <td>1.200000</td>\n",
       "    </tr>\n",
       "    <tr>\n",
       "      <th>797112</th>\n",
       "      <td>3618</td>\n",
       "      <td>384</td>\n",
       "      <td>3</td>\n",
       "      <td>1</td>\n",
       "      <td>56</td>\n",
       "      <td>17</td>\n",
       "      <td>[Action]</td>\n",
       "      <td>1990</td>\n",
       "      <td>3.000000</td>\n",
       "      <td>3.000000</td>\n",
       "      <td>3.000000</td>\n",
       "      <td>3.0</td>\n",
       "      <td>2.333333</td>\n",
       "      <td>0.500000</td>\n",
       "    </tr>\n",
       "    <tr>\n",
       "      <th>308330</th>\n",
       "      <td>2941</td>\n",
       "      <td>2087</td>\n",
       "      <td>4</td>\n",
       "      <td>1</td>\n",
       "      <td>35</td>\n",
       "      <td>12</td>\n",
       "      <td>[Animation, Children's, Fantasy, Musical]</td>\n",
       "      <td>1950</td>\n",
       "      <td>3.666667</td>\n",
       "      <td>3.666667</td>\n",
       "      <td>4.000000</td>\n",
       "      <td>4.0</td>\n",
       "      <td>4.000000</td>\n",
       "      <td>-0.333333</td>\n",
       "    </tr>\n",
       "    <tr>\n",
       "      <th>703970</th>\n",
       "      <td>4566</td>\n",
       "      <td>1395</td>\n",
       "      <td>4</td>\n",
       "      <td>1</td>\n",
       "      <td>35</td>\n",
       "      <td>17</td>\n",
       "      <td>[Comedy, Drama]</td>\n",
       "      <td>1980</td>\n",
       "      <td>3.000000</td>\n",
       "      <td>3.000000</td>\n",
       "      <td>3.333333</td>\n",
       "      <td>3.5</td>\n",
       "      <td>4.000000</td>\n",
       "      <td>-1.000000</td>\n",
       "    </tr>\n",
       "  </tbody>\n",
       "</table>\n",
       "</div>"
      ],
      "text/plain": [
       "        UserID  MovieID  Rating  Gender  Age  Occupation  \\\n",
       "749517    5597      448       1       0   18           4   \n",
       "249893    2167     1356       2       0   25           6   \n",
       "797112    3618      384       3       1   56          17   \n",
       "308330    2941     2087       4       1   35          12   \n",
       "703970    4566     1395       4       1   35          17   \n",
       "\n",
       "                                           Genres  Decade  MovieAvgOverall  \\\n",
       "749517                                    [Drama]    1990         1.000000   \n",
       "249893                [Action, Adventure, Sci-Fi]    1990         3.700000   \n",
       "797112                                   [Action]    1990         3.000000   \n",
       "308330  [Animation, Children's, Fantasy, Musical]    1950         3.666667   \n",
       "703970                            [Comedy, Drama]    1980         3.000000   \n",
       "\n",
       "        GenderPreferenceStrength  AgeGroupPreferenceStrength  \\\n",
       "749517                  1.000000                    1.000000   \n",
       "249893                  2.000000                    3.600000   \n",
       "797112                  3.000000                    3.000000   \n",
       "308330                  3.666667                    4.000000   \n",
       "703970                  3.000000                    3.333333   \n",
       "\n",
       "        OccupationRelevanceStrength  GenrePreferenceStrength  \\\n",
       "749517                          1.0                 1.000000   \n",
       "249893                          2.0                 2.333333   \n",
       "797112                          3.0                 2.333333   \n",
       "308330                          4.0                 4.000000   \n",
       "703970                          3.5                 4.000000   \n",
       "\n",
       "        DecadePreferenceStrength  \n",
       "749517                  0.000000  \n",
       "249893                  1.200000  \n",
       "797112                  0.500000  \n",
       "308330                 -0.333333  \n",
       "703970                 -1.000000  "
      ]
     },
     "execution_count": 61,
     "metadata": {},
     "output_type": "execute_result"
    }
   ],
   "source": [
    "features_df = compute_interaction_features(movies_stats, users_stats, features_df)\n",
    "features_df.head()"
   ]
  },
  {
   "cell_type": "code",
   "execution_count": 62,
   "metadata": {},
   "outputs": [],
   "source": [
    "from sklearn.preprocessing import StandardScaler\n",
    "\n",
    "# we shuffle the data\n",
    "features_df = features_df.sample(frac=1, random_state=42)\n",
    "scaler = StandardScaler()"
   ]
  },
  {
   "cell_type": "markdown",
   "metadata": {},
   "source": [
    "We construct the test data as the task description mandates. After the filtering is done, we drop the `UserID` and `MovieID` columns from the training and test datasets, as they do not carry any useful information for the model."
   ]
  },
  {
   "cell_type": "code",
   "execution_count": 63,
   "metadata": {},
   "outputs": [
    {
     "data": {
      "text/plain": [
       "(776, 11)"
      ]
     },
     "execution_count": 63,
     "metadata": {},
     "output_type": "execute_result"
    }
   ],
   "source": [
    "test_data = features_df[features_df[\"UserID\"].isin(range(1, 1001))].drop(\n",
    "    columns=[\"UserID\", \"MovieID\", \"Genres\"]\n",
    ")\n",
    "X_test = test_data.drop(columns=[\"Rating\"])\n",
    "X_test = scaler.fit_transform(X_test)\n",
    "y_test = test_data[\"Rating\"]\n",
    "\n",
    "test_data.shape"
   ]
  },
  {
   "cell_type": "markdown",
   "metadata": {},
   "source": [
    "We use the remaining data rows as the training data."
   ]
  },
  {
   "cell_type": "code",
   "execution_count": 64,
   "metadata": {},
   "outputs": [
    {
     "data": {
      "text/plain": [
       "(4224, 11)"
      ]
     },
     "execution_count": 64,
     "metadata": {},
     "output_type": "execute_result"
    }
   ],
   "source": [
    "train_data = features_df[~features_df[\"UserID\"].isin(range(1, 1001))].drop(\n",
    "    columns=[\"UserID\", \"MovieID\", \"Genres\"]\n",
    ")\n",
    "X_train = train_data.drop(columns=[\"Rating\"])\n",
    "X_train = scaler.fit_transform(X_train)\n",
    "y_train = train_data[\"Rating\"]\n",
    "\n",
    "train_data.shape"
   ]
  },
  {
   "cell_type": "code",
   "execution_count": 65,
   "metadata": {},
   "outputs": [
    {
     "data": {
      "text/markdown": [
       "\n",
       "**All in all, we have $4224$ training examples and $776$ test examples.**\n",
       "\n",
       "Columns:\n",
       "- `Rating`\n",
       "- `Gender`\n",
       "- `Age`\n",
       "- `Occupation`\n",
       "- `Decade`\n",
       "- `MovieAvgOverall`\n",
       "- `GenderPreferenceStrength`\n",
       "- `AgeGroupPreferenceStrength`\n",
       "- `OccupationRelevanceStrength`\n",
       "- `GenrePreferenceStrength`\n",
       "- `DecadePreferenceStrength`\n"
      ],
      "text/plain": [
       "<IPython.core.display.Markdown object>"
      ]
     },
     "execution_count": 65,
     "metadata": {},
     "output_type": "execute_result"
    }
   ],
   "source": [
    "from IPython.display import Markdown\n",
    "\n",
    "cols = \"\\n\".join([f\"- `{c}`\" for c in train_data.columns])\n",
    "Markdown(\n",
    "    f\"\"\"\n",
    "**All in all, we have ${train_data.shape[0]}$ training examples and ${test_data.shape[0]}$ test examples.**\n",
    "\n",
    "Columns:\n",
    "{cols}\n",
    "\"\"\"\n",
    ")"
   ]
  },
  {
   "cell_type": "markdown",
   "metadata": {},
   "source": [
    "## Subtask 2: Basic Movie Recommendation\n",
    "\n",
    "In this task you train different classifiers for predicting a user’s ratings from concatenated user-movie information, select good hyper-parameters for them, and evaluate their performance. In particular, consider linear SVMs (`sklearn.svm.LinearSVC`[^1]) and multi-layer perceptron classifier (`sklearn.neural_network.MLPClassifier`). For the SVM tune the regularization parameter C, for the MLP classifiers the `hidden_layer_sizes` (number of hidden layers and their respective sizes). When tuning the hyper-parameters, use cross-validation and only use the training data. Try at least 3 different hyper-parameters for the SVM and the multi-layer-perceptron classifiers, respectively.\n",
    "\n",
    "□ Report which models you tried (e.g., state the considered hyper-parameter values) and which models gave you the best prediction accuracy.\n",
    "\n",
    "□ State the best performing models’ performances (SVM and multi-layer-perceptron) on the test set.\n",
    "\n",
    "□ What is the best performance that can be achieved using a constant prediction, i.e., always predicting $c \\in \\{1,...,5\\}$?"
   ]
  },
  {
   "cell_type": "markdown",
   "metadata": {},
   "source": [
    "For the `LinearSVC` I am using the `ovr` strategy, that is a separate binary classifier is trained for each class, where one class is treated as the positive class and all others are combined into a negative class.\n",
    "\n",
    "For the `MLPClassifier` I used `GridSearchCV` to find the best hyperparameters from the tested set of values.\n",
    "\n",
    "For hyperparameters I used the following values:\n",
    "\n",
    "**LinearSVC**: $C \\in \\{0.1, 1, 10\\}$\n",
    "\n",
    "**MLPClassifier**: `hidden_layer_sizes` $\\in \\{(100,), (100, 50), (50, 25, 10)\\}$\n",
    "\n",
    "I computed the best performing models' performances on the test set in subtask 3:\n",
    "\n",
    "- SVM Classification Accuracy: 0.82\n",
    "- MLP Classification Accuracy: 0.95\n",
    "\n",
    "So based on this, the best performance that can be achieved using a constant prediction is the performance of the MLP classifier. The results might be significantly different for the whole dataset."
   ]
  },
  {
   "cell_type": "code",
   "execution_count": 66,
   "metadata": {},
   "outputs": [
    {
     "data": {
      "text/plain": [
       "({'C': 1}, 0.822916514764856)"
      ]
     },
     "execution_count": 66,
     "metadata": {},
     "output_type": "execute_result"
    }
   ],
   "source": [
    "from sklearn.model_selection import GridSearchCV\n",
    "from sklearn.svm import LinearSVC\n",
    "import joblib\n",
    "\n",
    "# Hyperparameter tuning for LinearSVC\n",
    "parameters_svc = {\"C\": [0.01, 0.1, 1]}\n",
    "svc = LinearSVC(multi_class=\"ovr\", dual=\"auto\", random_state=42, max_iter=10000)\n",
    "clf_svc = GridSearchCV(svc, parameters_svc, cv=5)\n",
    "clf_svc.fit(X_train, y_train)\n",
    "\n",
    "# Best parameters and score for LinearSVC\n",
    "best_svc_params = clf_svc.best_params_\n",
    "best_svc_score = clf_svc.best_score_\n",
    "\n",
    "best_svc_params, best_svc_score"
   ]
  },
  {
   "cell_type": "code",
   "execution_count": 67,
   "metadata": {},
   "outputs": [
    {
     "data": {
      "text/plain": [
       "({'hidden_layer_sizes': (100,)}, 0.9540752685156623)"
      ]
     },
     "execution_count": 67,
     "metadata": {},
     "output_type": "execute_result"
    }
   ],
   "source": [
    "from sklearn.neural_network import MLPClassifier\n",
    "from sklearn.model_selection import GridSearchCV\n",
    "\n",
    "\n",
    "# Hyperparameter tuning for MLPClassifier\n",
    "parameters_mlp = {\n",
    "    \"hidden_layer_sizes\": [(100,), (100, 50), (50, 25, 10)],\n",
    "}\n",
    "mlp = MLPClassifier(random_state=42, max_iter=1000, batch_size=1000)\n",
    "clf_mlp = GridSearchCV(mlp, parameters_mlp, cv=5, n_jobs=-1)\n",
    "clf_mlp.fit(X_train, y_train)\n",
    "\n",
    "# Best parameters and score for MLPClassifier\n",
    "best_mlp_params = clf_mlp.best_params_\n",
    "best_mlp_score = clf_mlp.best_score_\n",
    "\n",
    "best_mlp_params, best_mlp_score"
   ]
  },
  {
   "cell_type": "markdown",
   "metadata": {},
   "source": [
    "## Subtask 3: Classifier Evaluation I\n",
    "\n",
    "Evaluate the best classifiers from the previous task in more detail (the best SVM and the best MLP classifier). In particular, implement a function to compute and print the confusion matrix for the classifiers. Don’t use scikit’s functions for this purpose but rather implement this functionality yourself.\n",
    "\n",
    "□ Report your obtained confusion matrix.\n",
    "\n",
    "□ Do you see any structure in the confusion matrix? If so, report what you observe. If not, state so.\n",
    "\n",
    "□ Compute the classification accuracies of the classifiers from the confusion matrix.\n",
    "Report your computation and result."
   ]
  },
  {
   "cell_type": "markdown",
   "metadata": {},
   "source": [
    "In my custom implementation for the confusion matrix computation and for its plotting I used `numpy` and `matplotlib`."
   ]
  },
  {
   "cell_type": "code",
   "execution_count": 68,
   "metadata": {},
   "outputs": [],
   "source": [
    "import numpy as np\n",
    "import matplotlib.pyplot as plt\n",
    "\n",
    "\n",
    "def compute_confusion_matrix(\n",
    "    true: np.ndarray, pred: np.ndarray\n",
    ") -> tuple[np.ndarray, list[str]]:\n",
    "    \"\"\"\n",
    "    Compute the confusion matrix for a set of predictions.\n",
    "    \"\"\"\n",
    "    unique_labels = np.unique(np.concatenate((true, pred)))\n",
    "    matrix = np.zeros((len(unique_labels), len(unique_labels)), dtype=int)\n",
    "\n",
    "    for i, label in enumerate(unique_labels):\n",
    "        for j, pred_label in enumerate(unique_labels):\n",
    "            matrix[i, j] = np.sum((true == label) & (pred == pred_label))\n",
    "\n",
    "    return matrix, list(unique_labels)\n",
    "\n",
    "\n",
    "def plot_confusion_matrix(cm: np.ndarray, labels: list[str], title: str):\n",
    "    \"\"\"\n",
    "    Plots a confusion matrix.\n",
    "    \"\"\"\n",
    "    fig, ax = plt.subplots()\n",
    "    im = ax.imshow(cm, interpolation=\"nearest\", cmap=plt.cm.Blues)\n",
    "    ax.figure.colorbar(im, ax=ax)\n",
    "    ax.set(\n",
    "        xticks=np.arange(cm.shape[1]),\n",
    "        yticks=np.arange(cm.shape[0]),\n",
    "        xticklabels=labels,\n",
    "        yticklabels=labels,\n",
    "        title=title,\n",
    "        ylabel=\"True label\",\n",
    "        xlabel=\"Predicted label\",\n",
    "    )\n",
    "\n",
    "    plt.setp(ax.get_xticklabels(), rotation=45, ha=\"right\", rotation_mode=\"anchor\")\n",
    "    for i in range(cm.shape[0]):\n",
    "        for j in range(cm.shape[1]):\n",
    "            ax.text(\n",
    "                j,\n",
    "                i,\n",
    "                format(cm[i, j], \"d\"),\n",
    "                ha=\"center\",\n",
    "                va=\"center\",\n",
    "                color=\"white\" if cm[i, j] > cm.max() / 2.0 else \"black\",\n",
    "            )\n",
    "    fig.tight_layout()\n",
    "\n",
    "\n",
    "def compute_accuracy(cm: np.ndarray) -> float:\n",
    "    \"\"\"\n",
    "    Compute the accuracy from the confusion matrix.\n",
    "    Logic: sum of diagonal / sum of all elements\n",
    "    \"\"\"\n",
    "    return np.trace(cm) / np.sum(cm)"
   ]
  },
  {
   "cell_type": "markdown",
   "metadata": {},
   "source": [
    "### Support Vector Machine\n",
    "\n",
    "I used the best estimator from the previous task for the prediction and fed the results to my `compute_confusion_matrix` and `plot_confusion_matrix` functions."
   ]
  },
  {
   "cell_type": "code",
   "execution_count": 69,
   "metadata": {},
   "outputs": [],
   "source": [
    "svc_best = clf_svc.best_estimator_\n",
    "predicted_labels_svc = svc_best.predict(X_test)\n",
    "cm_svc, labels = compute_confusion_matrix(y_test, predicted_labels_svc)"
   ]
  },
  {
   "cell_type": "code",
   "execution_count": 70,
   "metadata": {},
   "outputs": [
    {
     "data": {
      "image/png": "[encoded data removed]",
      "text/plain": [
       "<Figure size 640x480 with 2 Axes>"
      ]
     },
     "metadata": {},
     "output_type": "display_data"
    }
   ],
   "source": [
    "plot_confusion_matrix(cm_svc, labels, \"Confusion matrix for LinearSVC\")\n",
    "plt.show()"
   ]
  },
  {
   "cell_type": "markdown",
   "metadata": {},
   "source": [
    "#### Confusion Matrix Structure\n",
    "\n",
    "There is some structure in this matrix. We can observe that:\n",
    "\n",
    "- The model has a relatively high number of correct predictions (diagonal elements), especially for classes 3, 4, and 5.\n",
    "- Class 2 seems to be commonly misclassified as Class 3, as indicated by the number 80 in the off-diagonal cell.\n",
    "- Class 4 also has a high rate of correct classification, with some misclassifications primarily as Class 3.\n",
    "- Class 5 has a fair number of correct classifications, but a considerable amount of misclassification as Class 4."
   ]
  },
  {
   "cell_type": "code",
   "execution_count": 71,
   "metadata": {},
   "outputs": [
    {
     "name": "stdout",
     "output_type": "stream",
     "text": [
      "SVM Classification Accuracy: 0.84\n"
     ]
    }
   ],
   "source": [
    "accuracy_svc = compute_accuracy(cm_svc)\n",
    "print(f\"SVM Classification Accuracy: {accuracy_svc:.2f}\")"
   ]
  },
  {
   "cell_type": "markdown",
   "metadata": {},
   "source": [
    "### Multi-Layer Perceptron\n",
    "\n",
    "I did the same thing as for the SVM. After using the best predictor, I used the output as the input of my custom functions."
   ]
  },
  {
   "cell_type": "code",
   "execution_count": 72,
   "metadata": {},
   "outputs": [],
   "source": [
    "mlp_best = clf_mlp.best_estimator_\n",
    "predicted_labels_mlp = mlp_best.predict(X_test)\n",
    "cm_mlp, labels = compute_confusion_matrix(y_test, predicted_labels_mlp)"
   ]
  },
  {
   "cell_type": "code",
   "execution_count": 73,
   "metadata": {},
   "outputs": [
    {
     "data": {
      "image/png": "[encoded data removed]",
      "text/plain": [
       "<Figure size 640x480 with 2 Axes>"
      ]
     },
     "metadata": {},
     "output_type": "display_data"
    }
   ],
   "source": [
    "plot_confusion_matrix(cm_mlp, labels, \"Confusion matrix for MLPClassifier\")\n",
    "plt.show()"
   ]
  },
  {
   "cell_type": "markdown",
   "metadata": {},
   "source": [
    "#### Confusion Matrix Structure\n",
    "\n",
    "Similarly to the SVM, there is structure in this matrix. We can observe that the classifier is precise and the diagonal elements are high. Misclassification occur rarely."
   ]
  },
  {
   "cell_type": "code",
   "execution_count": 74,
   "metadata": {},
   "outputs": [
    {
     "name": "stdout",
     "output_type": "stream",
     "text": [
      "MLP Classification Accuracy: 0.97\n"
     ]
    }
   ],
   "source": [
    "accuracy_mlp = compute_accuracy(cm_mlp)\n",
    "print(f\"MLP Classification Accuracy: {accuracy_mlp:.2f}\")"
   ]
  },
  {
   "cell_type": "markdown",
   "metadata": {},
   "source": [
    "### Summary\n",
    "\n",
    "It looks like the classification accuracy of the MLP is slightly better than that of the SVM. That being said, both models are fairly inaccurate. If I had more time and / or access to better computation resources, I would try the following to enhance the performance of the models:\n",
    "\n",
    "- use the full dataset\n",
    "- experiment with further interaction features\n",
    "- experiment with the inclusion of the temporal information in the dataset to account for the change in movie taste over time and to get access to more complex analytical findings\n",
    "- experiment with a larger set of hyperparmeter combinations for the models"
   ]
  },
  {
   "cell_type": "markdown",
   "metadata": {},
   "source": [
    "# Task 2: MLP Classifier\n",
    "\n",
    "In this task you will implement a multi-layer perceptron (MLP) for classification, the finite-differences approach for approximately computing the gradient of the loss with respect to the weights of the MLP, and train the MLP using the Adam optimizer (which is a variant of SGD that uses individual learning rates for each parameter). We consider the perceptron loss as our loss function.\n",
    "\n",
    "*Hint: Read the whole description of this task before starting to code. Think about how you can implement a MLP in a modular fashion such that you can easily change the number of layers and activation functions.*\n",
    "\n",
    "## Subtask 1: Classification Data\n",
    "\n",
    "Download the \"Classification\" dataset. Once stored in a local folder, you can load the data as follows:\n",
    "\n",
    "```python\n",
    "import h5py\n",
    "hf = h5py.File('classification.h5', 'r')\n",
    "x_train = np.array(hf.get('x_train'))\n",
    "y_train = np.array(hf.get('y_train'))\n",
    "x_test = np.array(hf.get('x_test'))\n",
    "y_test = np.array(hf.get('y_test'))\n",
    "hf.close()\n",
    "```\n",
    "\n",
    "The matrices `x_train` and `x_test` have the following shapes: (number of samples) $\\times$ (number of features). The matrices `y_train` and `y_test` have the following shapes: (number of samples) $\\times$ (number of targets). Normalize the data using the `MinMaxScaler`.\n",
    "\n",
    "□ Report the dataset statistics (number of features and training and test samples, number of targets)."
   ]
  },
  {
   "cell_type": "code",
   "execution_count": 75,
   "metadata": {},
   "outputs": [],
   "source": [
    "import h5py\n",
    "\n",
    "hf = h5py.File(assets_root / \"classification.h5\", \"r\")\n",
    "x_train = np.array(hf.get(\"x_train\"))\n",
    "y_train = np.array(hf.get(\"y_train\"))\n",
    "x_test = np.array(hf.get(\"x_test\"))\n",
    "y_test = np.array(hf.get(\"y_test\"))\n",
    "hf.close()"
   ]
  },
  {
   "cell_type": "code",
   "execution_count": 76,
   "metadata": {},
   "outputs": [],
   "source": [
    "from sklearn.preprocessing import MinMaxScaler\n",
    "\n",
    "scaler = MinMaxScaler()\n",
    "x_train = scaler.fit_transform(x_train)\n",
    "x_test = scaler.fit_transform(x_test)"
   ]
  },
  {
   "cell_type": "markdown",
   "metadata": {},
   "source": [
    "### Dataset Statistics"
   ]
  },
  {
   "cell_type": "code",
   "execution_count": 77,
   "metadata": {},
   "outputs": [
    {
     "name": "stdout",
     "output_type": "stream",
     "text": [
      "Training data shape: (500, 2)\n",
      "Test data shape: (10000, 2)\n",
      "Labels:\n",
      "0.0    256\n",
      "1.0    244\n",
      "Name: count, dtype: int64\n"
     ]
    }
   ],
   "source": [
    "print(f\"Training data shape: {x_train.shape}\")\n",
    "print(f\"Test data shape: {x_test.shape}\")\n",
    "print(f\"Labels:\\n{pd.Series(y_train.flatten()).value_counts()}\")"
   ]
  },
  {
   "cell_type": "markdown",
   "metadata": {},
   "source": [
    "## Subtask 2: Forward Propagation\n",
    "\n",
    "Implement forward propagation for an MLP classifier with two hidden layers and ReLU activation function. Use small hidden layers, each containing 10 neurons. The MLP must have a single output. Initialize weights randomly as discussed in class. Initialize biases as all-zero vectors.\n",
    "\n",
    "□ Briefly describe your implementation. How do you store the weights and biases?\n",
    "\n",
    "*Hint: Maintain lists of weight matrices and biases vectors.*\n",
    "\n",
    "*Hint: We will later (in the next assignment) replace the activation functions by other activation functions, so keep the activation function modular.*"
   ]
  },
  {
   "cell_type": "markdown",
   "metadata": {},
   "source": [
    "I implemented forward propagation for an MLP classifier with the following approach:\n",
    "\n",
    "**Weights and Biases Initialization**\n",
    "\n",
    "I stored the weights in a list of `numpy` arrays, with each array representing the weights between two consecutive layers. These weights are initialized using the standard normal distribution to ensure that each neuron starts off learning a different function. This approach is particularly important for the ReLU activation function to avoid dead neurons. The biases are stored in a similar list format and initialized to zero vectors.\n",
    "\n",
    "**Forward Propagation Function**\n",
    "\n",
    "In the `forward_propagation` function, the input `x` is propagated through the network. For each layer, the linear combination of inputs and weights plus the bias is calculated, and the ReLU activation function is applied to this sum. The iteration over layers is performed using a `for` loop that zips together the weights and biases lists, ensuring that each step uses the corresponding parameters for that layer. I also made the function parametric in terms of `activation_fn` so that I can easily test different activation functions later on."
   ]
  },
  {
   "cell_type": "code",
   "execution_count": 78,
   "metadata": {},
   "outputs": [],
   "source": [
    "import numpy as np\n",
    "from typing import Callable\n",
    "\n",
    "\n",
    "def initialize_parameters(\n",
    "    layer_sizes: list[int],\n",
    ") -> tuple[list[np.ndarray], list[np.ndarray]]:\n",
    "    \"\"\"\n",
    "    Initialize weights and biases for the MLP based on the provided layer sizes.\n",
    "    \"\"\"\n",
    "    weights = [\n",
    "        np.random.randn(layer_sizes[i], layer_sizes[i + 1])\n",
    "        for i in range(len(layer_sizes) - 1)\n",
    "    ]\n",
    "    biases = [np.zeros((1, layer_sizes[i + 1])) for i in range(len(layer_sizes) - 1)]\n",
    "\n",
    "    return weights, biases\n",
    "\n",
    "\n",
    "def relu(z: np.ndarray) -> np.ndarray:\n",
    "    \"\"\"\n",
    "    ReLU activation function.\n",
    "    \"\"\"\n",
    "    return np.maximum(0, z)\n",
    "\n",
    "\n",
    "def sigmoid(z: np.ndarray) -> np.ndarray:\n",
    "    \"\"\"\n",
    "    Sigmoid activation function.\n",
    "    \"\"\"\n",
    "    return 1 / (1 + np.exp(-z))\n",
    "\n",
    "\n",
    "def softmax(x: np.ndarray) -> np.ndarray:\n",
    "    \"\"\"\n",
    "    Softmax activation function.\n",
    "    \"\"\"\n",
    "    e_x = np.exp(x - np.max(x))\n",
    "    return e_x / e_x.sum(axis=0)\n",
    "\n",
    "\n",
    "def forward_propagation(\n",
    "    x: np.ndarray,\n",
    "    weights: list[np.ndarray],\n",
    "    biases: list[np.ndarray],\n",
    "    activation_fn: Callable[[np.ndarray], np.ndarray],\n",
    ") -> np.ndarray:\n",
    "    \"\"\"\n",
    "    Perform forward propagation through the MLP.\n",
    "    \"\"\"\n",
    "    a = x\n",
    "    for w, b in zip(weights, biases):\n",
    "        z = np.dot(a, w) + b.squeeze()\n",
    "        a = activation_fn(z)\n",
    "    return a"
   ]
  },
  {
   "cell_type": "markdown",
   "metadata": {},
   "source": [
    "## Subtask 3: Finite Difference Gradient & Optimization\n",
    "\n",
    "In this task you will implement the finite difference approximation of the gradient. The forward function implemented in the previous task computes the loss function $l(x,y; W) = l(x,y; W^{(1)}, b^{(1)}, W^{(2)}, b^{(2)}, ...)$, where $W^{(i)}$ and $b^{(i)}$ are the weight matrices and bias vectors of the $i^{th}$ hidden layer of the neural network—the number of hidden layers and the shapes of the corresponding weights and biases depend on the specific architecture. For $\\epsilon > 0$, the partial derivative of the loss function with respect to weight $w_{jk}^{(i)}$ can be approximated by\n",
    "\n",
    "$$\n",
    "\\frac{\\partial l(x,y; W)}{\\partial w_{jk}^{(i)}} = \\frac{l(x,y; W') - l(x,y; W'')}{2\\epsilon},\n",
    "$$\n",
    "\n",
    "where $W'$ equals $W$ except for $w_{jk}^{(i)}$ which is set to $w_{jk}^{(i)} + \\epsilon$ and $W''$ equals $W$ except for $w_{jk}^{(i)}$ which is set to $w_{jk}^{(i)} - \\epsilon$. The partial derivative with respect to bias terms can be approximated similarly.\n",
    "\n",
    "Use the implemented approximated gradient to train the MLP. Implement training using the Adam optimizer [4]. You can import the optimizer using \n",
    "\n",
    "```python\n",
    "from _stochastic_optimizers.py import AdamOptimizer\n",
    "```\n",
    "\n",
    "when you put stochastic `_stochastic_optimizers.py` in your local folder. \n",
    "\n",
    "The optimizer can be initialized using\n",
    "\n",
    "```python\n",
    "optimizer = AdamOptimizer(weights + biases, lr, 0.9, 0.999, 1e-08)\n",
    "```\n",
    "\n",
    ", where weights and biases are lists containing the weights\n",
    "and biases of your MLP and `lr` is the learning rate, e.g., $10^{-3}$ (you might need to play with the learning rate to get good results). Once you have approximated the gradient using finite differences, you can update the parameters of the MLP using \n",
    "\n",
    "```python\n",
    "optimizer.update_params(gradients + gradients biases)\n",
    "```\n",
    "\n",
    ", where gradients and gradients biases are lists of gradients for weights and biases respectively (using the same order as the lists you provided when initializing the optimizer). Make sure that your training converges. Test at least two different architectures and activation functions (e.g., sigmoid and ReLU).\n",
    "\n",
    "□ Report plots showing the mean perceptron loss on the training and test data during training for all tested architectures. Also report the classification accuracy during training on training and test data.\n",
    "\n",
    "□ Report the time for training for all tested architectures.\n",
    "\n",
    "□ Do you observe any differences in performance for the different architectures and activation functions?\n"
   ]
  },
  {
   "cell_type": "markdown",
   "metadata": {},
   "source": [
    "### Finite Difference Gradient"
   ]
  },
  {
   "cell_type": "code",
   "execution_count": 79,
   "metadata": {},
   "outputs": [],
   "source": [
    "def compute_loss(y_true: np.ndarray, y_pred: np.ndarray) -> float:\n",
    "    \"\"\"\n",
    "    Compute the mean squared error loss.\n",
    "    \"\"\"\n",
    "    return np.mean((y_true - y_pred) ** 2)\n",
    "\n",
    "\n",
    "def compute_gradient(\n",
    "    layer_idx: int,\n",
    "    x: np.ndarray,\n",
    "    y: np.ndarray,\n",
    "    weights: list[np.ndarray],\n",
    "    biases: list[np.ndarray],\n",
    "    activation_fn: Callable[[np.ndarray], np.ndarray],\n",
    "    epsilon: float = 1e-4,\n",
    "    is_bias: bool = False,\n",
    ") -> np.ndarray:\n",
    "    \"\"\"\n",
    "    Compute the gradient using finite difference approximation for a single parameter (weight or bias).\n",
    "    \"\"\"\n",
    "    param = biases[layer_idx] if is_bias else weights[layer_idx]\n",
    "    gradient = np.zeros_like(param)\n",
    "\n",
    "    for j in range(param.shape[0]):\n",
    "        for k in range(param.shape[1] if len(param.shape) > 1 else 1):\n",
    "            param_plus, param_minus = np.copy(param), np.copy(param)\n",
    "            param_plus[j, k] += epsilon\n",
    "            param_minus[j, k] -= epsilon\n",
    "\n",
    "            if is_bias:\n",
    "                biases_copy = biases.copy()\n",
    "                biases_copy[layer_idx] = param_plus.reshape(-1, 1)\n",
    "                loss_plus = compute_loss(\n",
    "                    y, forward_propagation(x, weights, biases_copy, activation_fn)\n",
    "                )\n",
    "                biases_copy[layer_idx] = param_minus.reshape(-1, 1)\n",
    "                loss_minus = compute_loss(\n",
    "                    y, forward_propagation(x, weights, biases_copy, activation_fn)\n",
    "                )\n",
    "            else:\n",
    "                weights_copy = weights.copy()\n",
    "                weights_copy[layer_idx] = param_plus\n",
    "                loss_plus = compute_loss(\n",
    "                    y, forward_propagation(x, weights_copy, biases, activation_fn)\n",
    "                )\n",
    "                weights_copy[layer_idx] = param_minus\n",
    "                loss_minus = compute_loss(\n",
    "                    y, forward_propagation(x, weights_copy, biases, activation_fn)\n",
    "                )\n",
    "\n",
    "            gradient[j, k] = (loss_plus - loss_minus) / (2 * epsilon)\n",
    "\n",
    "    return gradient\n",
    "\n",
    "\n",
    "def finite_difference_gradient(\n",
    "    x: np.ndarray,\n",
    "    y: np.ndarray,\n",
    "    weights: list[np.ndarray],\n",
    "    biases: list[np.ndarray],\n",
    "    activation_fn: Callable[[np.ndarray], np.ndarray],\n",
    "    epsilon: float = 1e-4,\n",
    ") -> tuple[list[np.ndarray], list[np.ndarray]]:\n",
    "    \"\"\"\n",
    "    Compute the gradient using finite difference approximation.\n",
    "    \"\"\"\n",
    "    gradients_weights = [\n",
    "        compute_gradient(\n",
    "            i, x, y, weights, biases, activation_fn, epsilon, is_bias=False\n",
    "        )\n",
    "        for i in range(len(weights))\n",
    "    ]\n",
    "    gradients_biases = [\n",
    "        compute_gradient(i, x, y, weights, biases, activation_fn, epsilon, is_bias=True)\n",
    "        for i in range(len(biases))\n",
    "    ]\n",
    "\n",
    "    return gradients_weights, gradients_biases"
   ]
  },
  {
   "cell_type": "markdown",
   "metadata": {},
   "source": [
    "### Training"
   ]
  },
  {
   "cell_type": "code",
   "execution_count": 80,
   "metadata": {},
   "outputs": [],
   "source": [
    "from _stochastic_optimizers import AdamOptimizer\n",
    "\n",
    "\n",
    "def train_mlp(\n",
    "    x_train: np.ndarray,\n",
    "    y_train: np.ndarray,\n",
    "    x_test: np.ndarray,\n",
    "    y_test: np.ndarray,\n",
    "    weights: list[np.ndarray],\n",
    "    biases: list[np.ndarray],\n",
    "    activation_fn: Callable[[np.ndarray], np.ndarray],\n",
    "    epochs: int = 100,\n",
    "    learning_rate: float = 1e-3,\n",
    "):\n",
    "    optimizer = AdamOptimizer(weights + biases, learning_rate, 0.9, 0.999, 1e-08)\n",
    "    training_losses, testing_losses = [], []\n",
    "    training_accuracies, testing_accuracies = [], []\n",
    "\n",
    "    for epoch in tqdm(range(epochs), desc=\"Training MLP\"):\n",
    "        # Forward pass\n",
    "        y_pred_train = forward_propagation(x_train, weights, biases, activation_fn)\n",
    "        y_pred_test = forward_propagation(x_test, weights, biases, activation_fn)\n",
    "\n",
    "        # Compute loss\n",
    "        train_loss = compute_loss(y_train, y_pred_train)\n",
    "        test_loss = compute_loss(y_test, y_pred_test)\n",
    "        training_losses.append(train_loss)\n",
    "        testing_losses.append(test_loss)\n",
    "\n",
    "        # Compute accuracy\n",
    "        train_accuracy = np.mean(np.round(y_pred_train) == y_train)\n",
    "        test_accuracy = np.mean(np.round(y_pred_test) == y_test)\n",
    "        training_accuracies.append(train_accuracy)\n",
    "        testing_accuracies.append(test_accuracy)\n",
    "\n",
    "        # Compute gradients and update parameters\n",
    "        gradients_weights, gradients_biases = finite_difference_gradient(\n",
    "            x_train, y_train, weights, biases, activation_fn\n",
    "        )\n",
    "        optimizer.update_params(gradients_weights, gradients_biases)\n",
    "\n",
    "    return {\n",
    "        \"weights\": weights,\n",
    "        \"biases\": biases,\n",
    "        \"training_losses\": training_losses,\n",
    "        \"testing_losses\": testing_losses,\n",
    "        \"training_accuracies\": training_accuracies,\n",
    "        \"testing_accuracies\": testing_accuracies,\n",
    "    }"
   ]
  },
  {
   "cell_type": "markdown",
   "metadata": {},
   "source": [
    "#### Running the Training\n",
    "\n",
    "The progress bars report not only the elapsed time but also the number of average iterations performed per second.\n",
    "I parameterized the whole training process so that I just need to change the `architectures` and `activation_functions` lists to test different architectures and activation functions and a combination of them.\n",
    "\n",
    "I am experimenting with the following architectures:\n",
    "\n",
    "- Single hidden layer with 10 neurons\n",
    "- Two hidden layers with 10 neurons each\n",
    "\n",
    "I am using the following activation functions:\n",
    "\n",
    "- ReLU\n",
    "- Sigmoid\n",
    "- Softmax\n",
    "\n",
    "I report all the runtime and accuracy measurements via `print` statements in the codeblock below."
   ]
  },
  {
   "cell_type": "code",
   "execution_count": 81,
   "metadata": {},
   "outputs": [
    {
     "name": "stdout",
     "output_type": "stream",
     "text": [
      "Testing Arch: [2, 10, 1], Activation: relu\n"
     ]
    },
    {
     "name": "stderr",
     "output_type": "stream",
     "text": [
      "Training MLP: 100%|█████████████████████████████████████████████████████████████████████████████████████████████████| 100/100 [00:01<00:00, 73.02it/s]\n"
     ]
    },
    {
     "name": "stdout",
     "output_type": "stream",
     "text": [
      "Final Training Loss: 0.41730886815533047\n",
      "Final Testing Loss: 0.40009122243014006\n",
      "Final Training Accuracy: 0.512\n",
      "Final Testing Accuracy: 0.5158\n",
      "\n",
      "Testing Arch: [2, 10, 1], Activation: sigmoid\n"
     ]
    },
    {
     "name": "stderr",
     "output_type": "stream",
     "text": [
      "Training MLP: 100%|█████████████████████████████████████████████████████████████████████████████████████████████████| 100/100 [00:01<00:00, 53.78it/s]\n"
     ]
    },
    {
     "name": "stdout",
     "output_type": "stream",
     "text": [
      "Final Training Loss: 0.2886466247558139\n",
      "Final Testing Loss: 0.2864918522367812\n",
      "Final Training Accuracy: 0.512\n",
      "Final Testing Accuracy: 0.5158\n",
      "\n",
      "Testing Arch: [2, 10, 1], Activation: softmax\n"
     ]
    },
    {
     "name": "stderr",
     "output_type": "stream",
     "text": [
      "Training MLP: 100%|█████████████████████████████████████████████████████████████████████████████████████████████████| 100/100 [00:02<00:00, 39.87it/s]\n"
     ]
    },
    {
     "name": "stdout",
     "output_type": "stream",
     "text": [
      "Final Training Loss: 0.48604972572290783\n",
      "Final Testing Loss: 0.48410316606543785\n",
      "Final Training Accuracy: 0.512\n",
      "Final Testing Accuracy: 0.5158\n",
      "\n",
      "Testing Arch: [2, 10, 10, 1], Activation: relu\n"
     ]
    },
    {
     "name": "stderr",
     "output_type": "stream",
     "text": [
      "Training MLP: 100%|█████████████████████████████████████████████████████████████████████████████████████████████████| 100/100 [00:05<00:00, 17.15it/s]\n"
     ]
    },
    {
     "name": "stdout",
     "output_type": "stream",
     "text": [
      "Final Training Loss: 4.239063102325914\n",
      "Final Testing Loss: 3.988938611559238\n",
      "Final Training Accuracy: 0.154\n",
      "Final Testing Accuracy: 0.1216\n",
      "\n",
      "Testing Arch: [2, 10, 10, 1], Activation: sigmoid\n"
     ]
    },
    {
     "name": "stderr",
     "output_type": "stream",
     "text": [
      "Training MLP: 100%|█████████████████████████████████████████████████████████████████████████████████████████████████| 100/100 [00:09<00:00, 10.22it/s]\n"
     ]
    },
    {
     "name": "stdout",
     "output_type": "stream",
     "text": [
      "Final Training Loss: 0.3373459700063662\n",
      "Final Testing Loss: 0.3405047541545418\n",
      "Final Training Accuracy: 0.488\n",
      "Final Testing Accuracy: 0.4842\n",
      "\n",
      "Testing Arch: [2, 10, 10, 1], Activation: softmax\n"
     ]
    },
    {
     "name": "stderr",
     "output_type": "stream",
     "text": [
      "Training MLP: 100%|█████████████████████████████████████████████████████████████████████████████████████████████████| 100/100 [00:12<00:00,  7.83it/s]"
     ]
    },
    {
     "name": "stdout",
     "output_type": "stream",
     "text": [
      "Final Training Loss: 0.4860520058067892\n",
      "Final Testing Loss: 0.4841031700004734\n",
      "Final Training Accuracy: 0.512\n",
      "Final Testing Accuracy: 0.5158\n",
      "\n"
     ]
    },
    {
     "name": "stderr",
     "output_type": "stream",
     "text": [
      "\n"
     ]
    }
   ],
   "source": [
    "architectures = [\n",
    "    [x_train.shape[1], 10, y_train.shape[1]],  # Single hidden layer, 10 neurons\n",
    "    [x_train.shape[1], 10, 10, y_train.shape[1]],  # Two hidden layers, 10 neurons each\n",
    "]\n",
    "activation_functions = {\"relu\": relu, \"sigmoid\": sigmoid, \"softmax\": softmax}\n",
    "\n",
    "results = {}\n",
    "for architecture in architectures:\n",
    "    for activation_name, activation_fn in activation_functions.items():\n",
    "        key = f\"Arch: {architecture}, Activation: {activation_name}\"\n",
    "        print(f\"Testing {key}\")\n",
    "\n",
    "        # Initialize parameters\n",
    "        weights, biases = initialize_parameters(architecture)\n",
    "\n",
    "        # Train the MLP\n",
    "        result = train_mlp(\n",
    "            x_train, y_train, x_test, y_test, weights, biases, activation_fn\n",
    "        )\n",
    "        results[key] = result\n",
    "\n",
    "        # Log the final loss and accuracy\n",
    "        print(f\"Final Training Loss: {result['training_losses'][-1]}\")\n",
    "        print(f\"Final Testing Loss: {result['testing_losses'][-1]}\")\n",
    "        print(f\"Final Training Accuracy: {result['training_accuracies'][-1]}\")\n",
    "        print(f\"Final Testing Accuracy: {result['testing_accuracies'][-1]}\")\n",
    "        print()"
   ]
  },
  {
   "cell_type": "markdown",
   "metadata": {},
   "source": [
    "### Mean Perceptron Loss"
   ]
  },
  {
   "cell_type": "code",
   "execution_count": 82,
   "metadata": {},
   "outputs": [],
   "source": [
    "import matplotlib.pyplot as plt\n",
    "import numpy as np\n",
    "\n",
    "\n",
    "def create_report_plot():\n",
    "    # Prepare data for bar chart\n",
    "    architectures = []\n",
    "    train_losses = []\n",
    "    test_losses = []\n",
    "\n",
    "    for key, value in results.items():\n",
    "        architectures.append(key)\n",
    "        train_losses.append(np.mean(value[\"training_losses\"]))\n",
    "        test_losses.append(np.mean(value[\"testing_losses\"]))\n",
    "\n",
    "    # Number of bars\n",
    "    n_bars = len(architectures)\n",
    "\n",
    "    # Positions of bars on x-axis\n",
    "    barWidth = 0.3\n",
    "    r1 = np.arange(n_bars)\n",
    "    r2 = [x + barWidth for x in r1]\n",
    "\n",
    "    # Create bar chart\n",
    "    plt.figure(figsize=(12, 6))\n",
    "\n",
    "    plt.bar(\n",
    "        r1,\n",
    "        train_losses,\n",
    "        color=\"blue\",\n",
    "        width=barWidth,\n",
    "        edgecolor=\"grey\",\n",
    "        label=\"Training Loss\",\n",
    "    )\n",
    "    plt.bar(\n",
    "        r2,\n",
    "        test_losses,\n",
    "        color=\"red\",\n",
    "        width=barWidth,\n",
    "        edgecolor=\"grey\",\n",
    "        label=\"Testing Loss\",\n",
    "    )\n",
    "\n",
    "    # Add labels\n",
    "    plt.xlabel(\"Architecture and Activation Function\", fontweight=\"bold\")\n",
    "    plt.xticks([r + barWidth for r in range(n_bars)], architectures, rotation=45)\n",
    "    plt.ylabel(\"Mean Perceptron Loss\")\n",
    "    plt.title(\"Comparison of Mean Perceptron Loss Across Different Architectures\")\n",
    "\n",
    "    plt.legend()\n",
    "    plt.show()"
   ]
  },
  {
   "cell_type": "markdown",
   "metadata": {},
   "source": [
    "As the plot below displays, we can observe a performance difference between the different architectures and activation functions. The number of hidden layers also influence the results."
   ]
  },
  {
   "cell_type": "code",
   "execution_count": 83,
   "metadata": {},
   "outputs": [
    {
     "data": {
      "image/png": "[encoded data removed]",
      "text/plain": [
       "<Figure size 1200x600 with 1 Axes>"
      ]
     },
     "metadata": {},
     "output_type": "display_data"
    }
   ],
   "source": [
    "create_report_plot()"
   ]
  }
 ],
 "metadata": {
  "kernelspec": {
   "display_name": "Python 3 (ipykernel)",
   "language": "python",
   "name": "python3"
  },
  "language_info": {
   "codemirror_mode": {
    "name": "ipython",
    "version": 3
   },
   "file_extension": ".py",
   "mimetype": "text/x-python",
   "name": "python",
   "nbconvert_exporter": "python",
   "pygments_lexer": "ipython3",
   "version": "3.12.0"
  }
 },
 "nbformat": 4,
 "nbformat_minor": 2
}
